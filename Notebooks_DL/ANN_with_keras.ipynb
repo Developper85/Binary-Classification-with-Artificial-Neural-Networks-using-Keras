{
  "cells": [
    {
      "cell_type": "markdown",
      "metadata": {
        "id": "ATSodP5cBRyh"
      },
      "source": [
        "# Artificial Neural Networks with Keras"
      ]
    },
    {
      "cell_type": "markdown",
      "metadata": {
        "id": "86Fc4u7pBRym"
      },
      "source": [
        "<p color='green'><b>Import libraries we will work with</b></p>"
      ]
    },
    {
      "cell_type": "code",
      "execution_count": 2,
      "metadata": {
        "id": "P055VkZPBRyp"
      },
      "outputs": [],
      "source": [
        "# TensorFlow ≥2.0 is required\n",
        "import tensorflow as tf\n",
        "from tensorflow import keras\n",
        "# Common imports\n",
        "import numpy as np\n",
        "import os\n",
        "\n",
        "# to make this notebook's output stable across runs\n",
        "np.random.seed(42)\n",
        "\n",
        "# To plot pretty figures\n",
        "%matplotlib inline\n",
        "import matplotlib as mpl\n",
        "import matplotlib.pyplot as plt\n",
        "mpl.rc('axes', labelsize=14)\n",
        "mpl.rc('xtick', labelsize=12)\n",
        "mpl.rc('ytick', labelsize=12)\n",
        "\n",
        "# Ignore useless warnings (see SciPy issue #5998)\n",
        "import warnings\n",
        "warnings.filterwarnings(action=\"ignore\", message=\"^internal gelsd\")"
      ]
    },
    {
      "cell_type": "code",
      "execution_count": 3,
      "metadata": {
        "colab": {
          "base_uri": "https://localhost:8080/",
          "height": 36
        },
        "id": "Vev74uZ-BRys",
        "outputId": "cd833935-de1e-4e69-b93e-64f4e110fa9d"
      },
      "outputs": [
        {
          "output_type": "execute_result",
          "data": {
            "text/plain": [
              "'2.12.0'"
            ],
            "application/vnd.google.colaboratory.intrinsic+json": {
              "type": "string"
            }
          },
          "metadata": {},
          "execution_count": 3
        }
      ],
      "source": [
        "tf.__version__"
      ]
    },
    {
      "cell_type": "markdown",
      "metadata": {
        "id": "ykIHnBWMBRyq"
      },
      "source": [
        "<b>Building an Image Classifier</b>"
      ]
    },
    {
      "cell_type": "markdown",
      "source": [
        "<p align='justify'>An image classifier is a type of machine learning algorithm or model that is trained to recognize and categorize images into one or more predefined classes or categories. The classifier works by learning to identify patterns and features within images that are characteristic of each class.\n",
        "</p>\n"
      ],
      "metadata": {
        "id": "989MCSPoEct-"
      }
    },
    {
      "cell_type": "markdown",
      "metadata": {
        "id": "TShyGFTXBRys"
      },
      "source": [
        "<p align='justify'>Let's start by loading the fashion MNIST dataset. Keras has a number of functions to load popular datasets in `keras.datasets`. The dataset is already split for you between a training set and a test set, but it can be useful to split the training set further to have a validation set:</p>"
      ]
    },
    {
      "cell_type": "code",
      "execution_count": 4,
      "metadata": {
        "collapsed": true,
        "colab": {
          "base_uri": "https://localhost:8080/"
        },
        "id": "6UZbSPARBRys",
        "outputId": "80c0e5b7-f922-4335-e0cc-e572b5d719bf"
      },
      "outputs": [
        {
          "output_type": "stream",
          "name": "stdout",
          "text": [
            "Downloading data from https://storage.googleapis.com/tensorflow/tf-keras-datasets/train-labels-idx1-ubyte.gz\n",
            "29515/29515 [==============================] - 0s 0us/step\n",
            "Downloading data from https://storage.googleapis.com/tensorflow/tf-keras-datasets/train-images-idx3-ubyte.gz\n",
            "26421880/26421880 [==============================] - 0s 0us/step\n",
            "Downloading data from https://storage.googleapis.com/tensorflow/tf-keras-datasets/t10k-labels-idx1-ubyte.gz\n",
            "5148/5148 [==============================] - 0s 0us/step\n",
            "Downloading data from https://storage.googleapis.com/tensorflow/tf-keras-datasets/t10k-images-idx3-ubyte.gz\n",
            "4422102/4422102 [==============================] - 0s 0us/step\n"
          ]
        }
      ],
      "source": [
        "fashion_mnist = keras.datasets.fashion_mnist\n",
        "(X_train_full, y_train_full), (X_test, y_test) = fashion_mnist.load_data()"
      ]
    },
    {
      "cell_type": "markdown",
      "metadata": {
        "id": "U8JyK8qFBRyt"
      },
      "source": [
        "The training set contains 60,000 grayscale images, each 28x28 pixels:"
      ]
    },
    {
      "cell_type": "code",
      "execution_count": 5,
      "metadata": {
        "colab": {
          "base_uri": "https://localhost:8080/"
        },
        "id": "RKpLnKv9BRyt",
        "outputId": "dcf6a3b4-6ee6-4eca-b305-ba544980e925"
      },
      "outputs": [
        {
          "output_type": "execute_result",
          "data": {
            "text/plain": [
              "(60000, 28, 28)"
            ]
          },
          "metadata": {},
          "execution_count": 5
        }
      ],
      "source": [
        "X_train_full.shape"
      ]
    },
    {
      "cell_type": "markdown",
      "metadata": {
        "id": "ytE97zIYBRyu"
      },
      "source": [
        "Each pixel intensity is represented as a byte (0 to 255):"
      ]
    },
    {
      "cell_type": "code",
      "execution_count": 6,
      "metadata": {
        "colab": {
          "base_uri": "https://localhost:8080/"
        },
        "id": "KC9eC6ecBRyu",
        "outputId": "745767b9-4cde-49bc-8876-f0dc4f07e45c"
      },
      "outputs": [
        {
          "output_type": "execute_result",
          "data": {
            "text/plain": [
              "dtype('uint8')"
            ]
          },
          "metadata": {},
          "execution_count": 6
        }
      ],
      "source": [
        "X_train_full.dtype"
      ]
    },
    {
      "cell_type": "markdown",
      "metadata": {
        "id": "94yVUd9EBRyu"
      },
      "source": [
        "Let's split the full training set into a validation set and a (smaller) training set. We also scale the pixel intensities down to the 0-1 range and convert them to floats, by dividing by 255."
      ]
    },
    {
      "cell_type": "code",
      "execution_count": 7,
      "metadata": {
        "collapsed": true,
        "id": "pQjJHEEuBRyv"
      },
      "outputs": [],
      "source": [
        "X_valid, X_train = X_train_full[:5000] / 255., X_train_full[5000:] / 255.\n",
        "y_valid, y_train = y_train_full[:5000], y_train_full[5000:]\n",
        "X_test = X_test / 255."
      ]
    },
    {
      "cell_type": "markdown",
      "metadata": {
        "id": "a0H_laQnBRyw"
      },
      "source": [
        "You can plot an image using Matplotlib's `imshow()` function, with a `'binary'`\n",
        " color map:"
      ]
    },
    {
      "cell_type": "code",
      "execution_count": 8,
      "metadata": {
        "colab": {
          "base_uri": "https://localhost:8080/",
          "height": 406
        },
        "id": "_NTel7kyBRyw",
        "outputId": "43f44845-cddd-4a0c-9fb7-9a0a66948d91"
      },
      "outputs": [
        {
          "output_type": "display_data",
          "data": {
            "text/plain": [
              "<Figure size 640x480 with 1 Axes>"
            ],
            "image/png": "[encoded data removed]"
          },
          "metadata": {}
        }
      ],
      "source": [
        "plt.imshow(X_train[0], cmap=\"binary\")\n",
        "plt.axis('off')\n",
        "plt.show()"
      ]
    },
    {
      "cell_type": "markdown",
      "metadata": {
        "id": "czI8Cc7CBRyw"
      },
      "source": [
        "The labels are the class IDs (represented as uint8), from 0 to 9:"
      ]
    },
    {
      "cell_type": "code",
      "execution_count": 9,
      "metadata": {
        "colab": {
          "base_uri": "https://localhost:8080/"
        },
        "id": "4LVYTbUHBRyx",
        "outputId": "6b642bf1-92d8-42c0-c864-be1d870717e5"
      },
      "outputs": [
        {
          "output_type": "execute_result",
          "data": {
            "text/plain": [
              "array([4, 0, 7, ..., 3, 0, 5], dtype=uint8)"
            ]
          },
          "metadata": {},
          "execution_count": 9
        }
      ],
      "source": [
        "y_train"
      ]
    },
    {
      "cell_type": "markdown",
      "metadata": {
        "id": "8l48IbyRBRyx"
      },
      "source": [
        "Here are the corresponding class names:"
      ]
    },
    {
      "cell_type": "code",
      "execution_count": 10,
      "metadata": {
        "collapsed": true,
        "id": "qPA_ZQl4BRyx"
      },
      "outputs": [],
      "source": [
        "class_names = [\"T-shirt/top\", \"Trouser\", \"Pullover\", \"Dress\", \"Coat\",\n",
        "               \"Sandal\", \"Shirt\", \"Sneaker\", \"Bag\", \"Ankle boot\"]"
      ]
    },
    {
      "cell_type": "markdown",
      "metadata": {
        "id": "23FrUmNZBRyy"
      },
      "source": [
        "So the first image in the training set is a coat:"
      ]
    },
    {
      "cell_type": "code",
      "execution_count": 11,
      "metadata": {
        "colab": {
          "base_uri": "https://localhost:8080/",
          "height": 36
        },
        "id": "TEIPqgKBBRyy",
        "outputId": "a9f2d117-c912-4848-c019-7807abe0c0d9"
      },
      "outputs": [
        {
          "output_type": "execute_result",
          "data": {
            "text/plain": [
              "'Coat'"
            ],
            "application/vnd.google.colaboratory.intrinsic+json": {
              "type": "string"
            }
          },
          "metadata": {},
          "execution_count": 11
        }
      ],
      "source": [
        "class_names[y_train[0]]"
      ]
    },
    {
      "cell_type": "markdown",
      "metadata": {
        "id": "A_J9kNokBRyy"
      },
      "source": [
        "The validation set contains 5,000 images, and the test set contains 10,000 images:"
      ]
    },
    {
      "cell_type": "code",
      "execution_count": 12,
      "metadata": {
        "colab": {
          "base_uri": "https://localhost:8080/"
        },
        "id": "-kvbaZGBBRyz",
        "outputId": "01a34ae8-ddeb-4216-960e-2bb27f29f5b0"
      },
      "outputs": [
        {
          "output_type": "execute_result",
          "data": {
            "text/plain": [
              "(5000, 28, 28)"
            ]
          },
          "metadata": {},
          "execution_count": 12
        }
      ],
      "source": [
        "X_valid.shape"
      ]
    },
    {
      "cell_type": "code",
      "execution_count": 13,
      "metadata": {
        "colab": {
          "base_uri": "https://localhost:8080/"
        },
        "id": "MZdeZo78BRyz",
        "outputId": "09757a86-a491-4335-de67-23e6d622bddb"
      },
      "outputs": [
        {
          "output_type": "execute_result",
          "data": {
            "text/plain": [
              "(10000, 28, 28)"
            ]
          },
          "metadata": {},
          "execution_count": 13
        }
      ],
      "source": [
        "X_test.shape"
      ]
    },
    {
      "cell_type": "markdown",
      "metadata": {
        "id": "_3CRn2vjBRyz"
      },
      "source": [
        "Let's take a look at a sample of the images in the dataset:"
      ]
    },
    {
      "cell_type": "code",
      "execution_count": 14,
      "metadata": {
        "colab": {
          "base_uri": "https://localhost:8080/",
          "height": 428
        },
        "id": "dZFoWKq8BRy0",
        "outputId": "1e63ac09-c765-4414-9850-fa82f37d647e"
      },
      "outputs": [
        {
          "output_type": "display_data",
          "data": {
            "text/plain": [
              "<Figure size 1200x480 with 40 Axes>"
            ],
            "image/png": "[encoded data removed]"
          },
          "metadata": {}
        }
      ],
      "source": [
        "n_rows = 4\n",
        "n_cols = 10\n",
        "plt.figure(figsize=(n_cols * 1.2, n_rows * 1.2))\n",
        "for row in range(n_rows):\n",
        "    for col in range(n_cols):\n",
        "        index = n_cols * row + col\n",
        "        plt.subplot(n_rows, n_cols, index + 1)\n",
        "        plt.imshow(X_train[index], cmap=\"binary\", interpolation=\"nearest\")\n",
        "        plt.axis('off')\n",
        "        plt.title(class_names[y_train[index]], fontsize=12)\n",
        "        \n",
        "plt.subplots_adjust(wspace=0.2, hspace=0.5)\n",
        "plt.show()"
      ]
    },
    {
      "cell_type": "markdown",
      "metadata": {
        "id": "H-M7Iw1tBRy0"
      },
      "source": [
        "<b> Construct a Model</b>"
      ]
    },
    {
      "cell_type": "code",
      "execution_count": 15,
      "metadata": {
        "collapsed": true,
        "id": "87R-cmnFBRy0"
      },
      "outputs": [],
      "source": [
        "model = keras.models.Sequential()\n",
        "model.add(keras.layers.Flatten(input_shape=[28, 28]))\n",
        "model.add(keras.layers.Dense(300, activation=\"relu\"))\n",
        "model.add(keras.layers.Dense(100, activation=\"relu\"))\n",
        "model.add(keras.layers.Dense(10, activation=\"softmax\"))"
      ]
    },
    {
      "cell_type": "markdown",
      "source": [
        "Supprimer toutes les sessions précédentes et les modèles stockés en mémoire"
      ],
      "metadata": {
        "id": "vSSGbhwOEJjt"
      }
    },
    {
      "cell_type": "code",
      "execution_count": 16,
      "metadata": {
        "collapsed": true,
        "id": "yRDNfbCrBRy1"
      },
      "outputs": [],
      "source": [
        "keras.backend.clear_session()\n",
        "np.random.seed(42)"
      ]
    },
    {
      "cell_type": "code",
      "execution_count": 17,
      "metadata": {
        "colab": {
          "base_uri": "https://localhost:8080/"
        },
        "id": "l0ofHXM5BRy2",
        "outputId": "b3ce362e-5ab3-4f71-aa3b-5922250c5337"
      },
      "outputs": [
        {
          "output_type": "execute_result",
          "data": {
            "text/plain": [
              "[<keras.layers.reshaping.flatten.Flatten at 0x7f97cf68a0d0>,\n",
              " <keras.layers.core.dense.Dense at 0x7f97f7449e50>,\n",
              " <keras.layers.core.dense.Dense at 0x7f97cf6ff520>,\n",
              " <keras.layers.core.dense.Dense at 0x7f97cf76f700>]"
            ]
          },
          "metadata": {},
          "execution_count": 17
        }
      ],
      "source": [
        "model.layers"
      ]
    },
    {
      "cell_type": "code",
      "execution_count": 18,
      "metadata": {
        "colab": {
          "base_uri": "https://localhost:8080/"
        },
        "id": "olJF77-7BRy2",
        "outputId": "a0657062-e268-4023-a9f4-b0491a6094a2"
      },
      "outputs": [
        {
          "output_type": "stream",
          "name": "stdout",
          "text": [
            "Model: \"sequential\"\n",
            "_________________________________________________________________\n",
            " Layer (type)                Output Shape              Param #   \n",
            "=================================================================\n",
            " flatten (Flatten)           (None, 784)               0         \n",
            "                                                                 \n",
            " dense (Dense)               (None, 300)               235500    \n",
            "                                                                 \n",
            " dense_1 (Dense)             (None, 100)               30100     \n",
            "                                                                 \n",
            " dense_2 (Dense)             (None, 10)                1010      \n",
            "                                                                 \n",
            "=================================================================\n",
            "Total params: 266,610\n",
            "Trainable params: 266,610\n",
            "Non-trainable params: 0\n",
            "_________________________________________________________________\n"
          ]
        }
      ],
      "source": [
        "model.summary()"
      ]
    },
    {
      "cell_type": "code",
      "execution_count": 19,
      "metadata": {
        "collapsed": true,
        "id": "lyEsb1ekBRy3"
      },
      "outputs": [],
      "source": [
        "#keras.utils.plot_model(model, \"my_mnist_model.png\", show_shapes=True)"
      ]
    },
    {
      "cell_type": "code",
      "execution_count": 20,
      "metadata": {
        "colab": {
          "base_uri": "https://localhost:8080/",
          "height": 36
        },
        "id": "PQ0xhrTkBRy4",
        "outputId": "81bccba3-9778-4a67-f5ed-fb097a4d8169"
      },
      "outputs": [
        {
          "output_type": "execute_result",
          "data": {
            "text/plain": [
              "'dense'"
            ],
            "application/vnd.google.colaboratory.intrinsic+json": {
              "type": "string"
            }
          },
          "metadata": {},
          "execution_count": 20
        }
      ],
      "source": [
        "hidden1 = model.layers[1]\n",
        "hidden1.name"
      ]
    },
    {
      "cell_type": "code",
      "execution_count": 21,
      "metadata": {
        "collapsed": true,
        "id": "Q90ZLhFVBRy5"
      },
      "outputs": [],
      "source": [
        "weights, biases = hidden1.get_weights()"
      ]
    },
    {
      "cell_type": "code",
      "execution_count": 22,
      "metadata": {
        "colab": {
          "base_uri": "https://localhost:8080/"
        },
        "id": "HMHMRnIMBRy6",
        "outputId": "7f727532-ac8e-47f5-f6ff-aa64e75c249f"
      },
      "outputs": [
        {
          "output_type": "execute_result",
          "data": {
            "text/plain": [
              "array([[ 0.00837278,  0.04110242, -0.02379031, ..., -0.03584148,\n",
              "        -0.01871367,  0.02357804],\n",
              "       [-0.01733817, -0.05816302, -0.01519606, ...,  0.03591802,\n",
              "         0.01713809, -0.00061484],\n",
              "       [-0.00980359, -0.01569683, -0.0527464 , ..., -0.05492076,\n",
              "         0.00672258,  0.00596184],\n",
              "       ...,\n",
              "       [-0.05657277, -0.07364287, -0.03922815, ..., -0.05801353,\n",
              "         0.0119027 , -0.05790414],\n",
              "       [ 0.01681753, -0.04963995,  0.0022206 , ..., -0.00426   ,\n",
              "         0.04327527, -0.07190839],\n",
              "       [ 0.04616711, -0.04523525, -0.05724789, ...,  0.03783617,\n",
              "         0.05452807,  0.06225783]], dtype=float32)"
            ]
          },
          "metadata": {},
          "execution_count": 22
        }
      ],
      "source": [
        "weights"
      ]
    },
    {
      "cell_type": "code",
      "execution_count": 23,
      "metadata": {
        "colab": {
          "base_uri": "https://localhost:8080/"
        },
        "id": "RJYXayNgBRy6",
        "outputId": "900c2233-a97c-44c2-95e3-8cd148a6d327"
      },
      "outputs": [
        {
          "output_type": "execute_result",
          "data": {
            "text/plain": [
              "(784, 300)"
            ]
          },
          "metadata": {},
          "execution_count": 23
        }
      ],
      "source": [
        "weights.shape"
      ]
    },
    {
      "cell_type": "code",
      "execution_count": 24,
      "metadata": {
        "colab": {
          "base_uri": "https://localhost:8080/"
        },
        "id": "Fs3b0yozBRy7",
        "outputId": "93c2fd13-f8a6-4df0-9b1f-ce4df5ce5c39"
      },
      "outputs": [
        {
          "output_type": "execute_result",
          "data": {
            "text/plain": [
              "array([0., 0., 0., 0., 0., 0., 0., 0., 0., 0., 0., 0., 0., 0., 0., 0., 0.,\n",
              "       0., 0., 0., 0., 0., 0., 0., 0., 0., 0., 0., 0., 0., 0., 0., 0., 0.,\n",
              "       0., 0., 0., 0., 0., 0., 0., 0., 0., 0., 0., 0., 0., 0., 0., 0., 0.,\n",
              "       0., 0., 0., 0., 0., 0., 0., 0., 0., 0., 0., 0., 0., 0., 0., 0., 0.,\n",
              "       0., 0., 0., 0., 0., 0., 0., 0., 0., 0., 0., 0., 0., 0., 0., 0., 0.,\n",
              "       0., 0., 0., 0., 0., 0., 0., 0., 0., 0., 0., 0., 0., 0., 0., 0., 0.,\n",
              "       0., 0., 0., 0., 0., 0., 0., 0., 0., 0., 0., 0., 0., 0., 0., 0., 0.,\n",
              "       0., 0., 0., 0., 0., 0., 0., 0., 0., 0., 0., 0., 0., 0., 0., 0., 0.,\n",
              "       0., 0., 0., 0., 0., 0., 0., 0., 0., 0., 0., 0., 0., 0., 0., 0., 0.,\n",
              "       0., 0., 0., 0., 0., 0., 0., 0., 0., 0., 0., 0., 0., 0., 0., 0., 0.,\n",
              "       0., 0., 0., 0., 0., 0., 0., 0., 0., 0., 0., 0., 0., 0., 0., 0., 0.,\n",
              "       0., 0., 0., 0., 0., 0., 0., 0., 0., 0., 0., 0., 0., 0., 0., 0., 0.,\n",
              "       0., 0., 0., 0., 0., 0., 0., 0., 0., 0., 0., 0., 0., 0., 0., 0., 0.,\n",
              "       0., 0., 0., 0., 0., 0., 0., 0., 0., 0., 0., 0., 0., 0., 0., 0., 0.,\n",
              "       0., 0., 0., 0., 0., 0., 0., 0., 0., 0., 0., 0., 0., 0., 0., 0., 0.,\n",
              "       0., 0., 0., 0., 0., 0., 0., 0., 0., 0., 0., 0., 0., 0., 0., 0., 0.,\n",
              "       0., 0., 0., 0., 0., 0., 0., 0., 0., 0., 0., 0., 0., 0., 0., 0., 0.,\n",
              "       0., 0., 0., 0., 0., 0., 0., 0., 0., 0., 0.], dtype=float32)"
            ]
          },
          "metadata": {},
          "execution_count": 24
        }
      ],
      "source": [
        "biases"
      ]
    },
    {
      "cell_type": "code",
      "execution_count": 25,
      "metadata": {
        "colab": {
          "base_uri": "https://localhost:8080/"
        },
        "id": "B6w8d1PWBRy7",
        "outputId": "ff8374c4-70c9-47a3-cbd4-941c7201748a"
      },
      "outputs": [
        {
          "output_type": "execute_result",
          "data": {
            "text/plain": [
              "(300,)"
            ]
          },
          "metadata": {},
          "execution_count": 25
        }
      ],
      "source": [
        "biases.shape"
      ]
    },
    {
      "cell_type": "markdown",
      "metadata": {
        "id": "xmQoTf9TBRy8"
      },
      "source": [
        "<b>Compile the Model</b>\n",
        "\n",
        "\n",
        "Configuration : Here you can chose the loss function, the optimizer, the performance metric, etc. "
      ]
    },
    {
      "cell_type": "code",
      "execution_count": 26,
      "metadata": {
        "collapsed": true,
        "id": "im_lcaOXBRy8"
      },
      "outputs": [],
      "source": [
        "model.compile(loss=\"sparse_categorical_crossentropy\",\n",
        "              optimizer=\"sgd\",\n",
        "              metrics=[\"accuracy\"])"
      ]
    },
    {
      "cell_type": "markdown",
      "metadata": {
        "id": "93vUPIsiBRy9"
      },
      "source": [
        "<b>Train the model</b>\n",
        "\n",
        "Here you can chose how many epochs you need and the batch size."
      ]
    },
    {
      "cell_type": "code",
      "execution_count": 27,
      "metadata": {
        "colab": {
          "base_uri": "https://localhost:8080/"
        },
        "id": "fL05K2ycBRy-",
        "outputId": "b43d3b2f-e6ec-4ab7-d8d7-08a90cb4e954"
      },
      "outputs": [
        {
          "output_type": "stream",
          "name": "stdout",
          "text": [
            "Epoch 1/30\n",
            "1719/1719 [==============================] - 8s 4ms/step - loss: 0.7348 - accuracy: 0.7559 - val_loss: 0.5117 - val_accuracy: 0.8270\n",
            "Epoch 2/30\n",
            "1719/1719 [==============================] - 8s 5ms/step - loss: 0.4903 - accuracy: 0.8283 - val_loss: 0.4539 - val_accuracy: 0.8424\n",
            "Epoch 3/30\n",
            "1719/1719 [==============================] - 8s 5ms/step - loss: 0.4451 - accuracy: 0.8433 - val_loss: 0.4210 - val_accuracy: 0.8474\n",
            "Epoch 4/30\n",
            "1719/1719 [==============================] - 7s 4ms/step - loss: 0.4164 - accuracy: 0.8538 - val_loss: 0.3921 - val_accuracy: 0.8642\n",
            "Epoch 5/30\n",
            "1719/1719 [==============================] - 8s 5ms/step - loss: 0.3959 - accuracy: 0.8609 - val_loss: 0.3877 - val_accuracy: 0.8668\n",
            "Epoch 6/30\n",
            "1719/1719 [==============================] - 7s 4ms/step - loss: 0.3798 - accuracy: 0.8657 - val_loss: 0.3701 - val_accuracy: 0.8744\n",
            "Epoch 7/30\n",
            "1719/1719 [==============================] - 8s 5ms/step - loss: 0.3663 - accuracy: 0.8699 - val_loss: 0.3647 - val_accuracy: 0.8738\n",
            "Epoch 8/30\n",
            "1719/1719 [==============================] - 7s 4ms/step - loss: 0.3550 - accuracy: 0.8744 - val_loss: 0.3551 - val_accuracy: 0.8758\n",
            "Epoch 9/30\n",
            "1719/1719 [==============================] - 7s 4ms/step - loss: 0.3429 - accuracy: 0.8787 - val_loss: 0.3592 - val_accuracy: 0.8684\n",
            "Epoch 10/30\n",
            "1719/1719 [==============================] - 8s 5ms/step - loss: 0.3331 - accuracy: 0.8804 - val_loss: 0.3382 - val_accuracy: 0.8812\n",
            "Epoch 11/30\n",
            "1719/1719 [==============================] - 7s 4ms/step - loss: 0.3245 - accuracy: 0.8838 - val_loss: 0.3377 - val_accuracy: 0.8774\n",
            "Epoch 12/30\n",
            "1719/1719 [==============================] - 8s 5ms/step - loss: 0.3169 - accuracy: 0.8863 - val_loss: 0.3381 - val_accuracy: 0.8800\n",
            "Epoch 13/30\n",
            "1719/1719 [==============================] - 7s 4ms/step - loss: 0.3096 - accuracy: 0.8903 - val_loss: 0.3478 - val_accuracy: 0.8778\n",
            "Epoch 14/30\n",
            "1719/1719 [==============================] - 8s 4ms/step - loss: 0.3016 - accuracy: 0.8915 - val_loss: 0.3361 - val_accuracy: 0.8814\n",
            "Epoch 15/30\n",
            "1719/1719 [==============================] - 7s 4ms/step - loss: 0.2969 - accuracy: 0.8936 - val_loss: 0.3210 - val_accuracy: 0.8830\n",
            "Epoch 16/30\n",
            "1719/1719 [==============================] - 8s 4ms/step - loss: 0.2901 - accuracy: 0.8951 - val_loss: 0.3220 - val_accuracy: 0.8826\n",
            "Epoch 17/30\n",
            "1719/1719 [==============================] - 8s 5ms/step - loss: 0.2846 - accuracy: 0.8971 - val_loss: 0.3116 - val_accuracy: 0.8876\n",
            "Epoch 18/30\n",
            "1719/1719 [==============================] - 7s 4ms/step - loss: 0.2793 - accuracy: 0.8997 - val_loss: 0.3121 - val_accuracy: 0.8878\n",
            "Epoch 19/30\n",
            "1719/1719 [==============================] - 8s 5ms/step - loss: 0.2730 - accuracy: 0.9010 - val_loss: 0.3272 - val_accuracy: 0.8820\n",
            "Epoch 20/30\n",
            "1719/1719 [==============================] - 7s 4ms/step - loss: 0.2691 - accuracy: 0.9026 - val_loss: 0.3134 - val_accuracy: 0.8868\n",
            "Epoch 21/30\n",
            "1719/1719 [==============================] - 8s 4ms/step - loss: 0.2636 - accuracy: 0.9057 - val_loss: 0.3049 - val_accuracy: 0.8930\n",
            "Epoch 22/30\n",
            "1719/1719 [==============================] - 8s 5ms/step - loss: 0.2586 - accuracy: 0.9075 - val_loss: 0.3439 - val_accuracy: 0.8772\n",
            "Epoch 23/30\n",
            "1719/1719 [==============================] - 7s 4ms/step - loss: 0.2545 - accuracy: 0.9087 - val_loss: 0.3121 - val_accuracy: 0.8830\n",
            "Epoch 24/30\n",
            "1719/1719 [==============================] - 8s 5ms/step - loss: 0.2503 - accuracy: 0.9096 - val_loss: 0.3270 - val_accuracy: 0.8818\n",
            "Epoch 25/30\n",
            "1719/1719 [==============================] - 7s 4ms/step - loss: 0.2467 - accuracy: 0.9109 - val_loss: 0.3216 - val_accuracy: 0.8794\n",
            "Epoch 26/30\n",
            "1719/1719 [==============================] - 8s 5ms/step - loss: 0.2409 - accuracy: 0.9128 - val_loss: 0.3061 - val_accuracy: 0.8940\n",
            "Epoch 27/30\n",
            "1719/1719 [==============================] - 8s 5ms/step - loss: 0.2385 - accuracy: 0.9135 - val_loss: 0.3082 - val_accuracy: 0.8878\n",
            "Epoch 28/30\n",
            "1719/1719 [==============================] - 7s 4ms/step - loss: 0.2347 - accuracy: 0.9150 - val_loss: 0.2968 - val_accuracy: 0.8920\n",
            "Epoch 29/30\n",
            "1719/1719 [==============================] - 8s 5ms/step - loss: 0.2301 - accuracy: 0.9167 - val_loss: 0.2996 - val_accuracy: 0.8914\n",
            "Epoch 30/30\n",
            "1719/1719 [==============================] - 7s 4ms/step - loss: 0.2263 - accuracy: 0.9183 - val_loss: 0.2994 - val_accuracy: 0.8924\n"
          ]
        }
      ],
      "source": [
        "history = model.fit(X_train, y_train, batch_size=32, epochs=30,\n",
        "                    validation_data=(X_valid, y_valid))"
      ]
    },
    {
      "cell_type": "code",
      "execution_count": 28,
      "metadata": {
        "colab": {
          "base_uri": "https://localhost:8080/"
        },
        "id": "2HqMn0WhBRy-",
        "outputId": "94318996-4f43-4544-da11-e910a7274efe"
      },
      "outputs": [
        {
          "output_type": "execute_result",
          "data": {
            "text/plain": [
              "{'verbose': 1, 'epochs': 30, 'steps': 1719}"
            ]
          },
          "metadata": {},
          "execution_count": 28
        }
      ],
      "source": [
        "history.params"
      ]
    },
    {
      "cell_type": "code",
      "execution_count": 29,
      "metadata": {
        "colab": {
          "base_uri": "https://localhost:8080/"
        },
        "id": "silMK_c9BRy-",
        "outputId": "49d8076d-e37d-43d3-81c6-55d9fd843859"
      },
      "outputs": [
        {
          "output_type": "stream",
          "name": "stdout",
          "text": [
            "[0, 1, 2, 3, 4, 5, 6, 7, 8, 9, 10, 11, 12, 13, 14, 15, 16, 17, 18, 19, 20, 21, 22, 23, 24, 25, 26, 27, 28, 29]\n"
          ]
        }
      ],
      "source": [
        "print(history.epoch)"
      ]
    },
    {
      "cell_type": "code",
      "execution_count": 30,
      "metadata": {
        "colab": {
          "base_uri": "https://localhost:8080/"
        },
        "id": "TDkNm5o_BRy_",
        "outputId": "ecf76d06-b886-4c20-98e4-07fed3fbc377"
      },
      "outputs": [
        {
          "output_type": "execute_result",
          "data": {
            "text/plain": [
              "dict_keys(['loss', 'accuracy', 'val_loss', 'val_accuracy'])"
            ]
          },
          "metadata": {},
          "execution_count": 30
        }
      ],
      "source": [
        "history.history.keys()"
      ]
    },
    {
      "cell_type": "markdown",
      "metadata": {
        "id": "swxL74iaBRy_"
      },
      "source": [
        "<b> Plot learning Curves</b>"
      ]
    },
    {
      "cell_type": "code",
      "execution_count": 31,
      "metadata": {
        "colab": {
          "base_uri": "https://localhost:8080/",
          "height": 456
        },
        "id": "W-7AvDXvBRy_",
        "outputId": "5b6d5335-d477-4b8c-dbda-374585645ce4"
      },
      "outputs": [
        {
          "output_type": "display_data",
          "data": {
            "text/plain": [
              "<Figure size 800x500 with 1 Axes>"
            ],
            "image/png": "[encoded data removed]"
          },
          "metadata": {}
        }
      ],
      "source": [
        "import pandas as pd\n",
        "pd.DataFrame(history.history).plot(figsize=(8, 5))\n",
        "plt.grid(True)\n",
        "plt.gca().set_ylim(0, 1)\n",
        "plt.show()"
      ]
    },
    {
      "cell_type": "markdown",
      "source": [
        "> <b> Accuracy</b>\n",
        "\n",
        "<p align=\"justify\">The plot shows that the accuracy of the model on the training set increases steadily over the epochs, while the accuracy on the validation set also increases initially but then reaches a plateau and does not improve much after that. This indicates that the model is starting to overfit to the training set.\n",
        "</p>\n"
      ],
      "metadata": {
        "id": "2E0DOSv_QwmG"
      }
    },
    {
      "cell_type": "markdown",
      "source": [
        "> <b>Loss</b>\n",
        "\n",
        "<p align=\"justify\">The plot shows that the loss of the model on the training set decreases steadily over the epochs, while the loss on the validation set also decreases initially but then reaches a plateau and does not improve much after that. This confirms that the model is overfitting to the training set.\n",
        "</p>\n",
        "\n",
        "\n"
      ],
      "metadata": {
        "id": "JQKfQah-RIay"
      }
    },
    {
      "cell_type": "code",
      "execution_count": 46,
      "metadata": {
        "colab": {
          "base_uri": "https://localhost:8080/"
        },
        "id": "uU_sftfSBRy_",
        "outputId": "62dc5f69-a6ec-46fa-d7cc-f42d23b96a38"
      },
      "outputs": [
        {
          "output_type": "stream",
          "name": "stdout",
          "text": [
            "313/313 [==============================] - 1s 2ms/step - loss: 0.3321 - accuracy: 0.8811\n"
          ]
        },
        {
          "output_type": "execute_result",
          "data": {
            "text/plain": [
              "[0.33208954334259033, 0.8810999989509583]"
            ]
          },
          "metadata": {},
          "execution_count": 46
        }
      ],
      "source": [
        "model.evaluate(X_test, y_test)"
      ]
    },
    {
      "cell_type": "code",
      "execution_count": 33,
      "metadata": {
        "colab": {
          "base_uri": "https://localhost:8080/"
        },
        "id": "xEmXyXaZBRzA",
        "outputId": "8ca27493-329d-4810-d6bd-c231ed3e9b26"
      },
      "outputs": [
        {
          "output_type": "stream",
          "name": "stdout",
          "text": [
            "1/1 [==============================] - 0s 397ms/step\n"
          ]
        },
        {
          "output_type": "execute_result",
          "data": {
            "text/plain": [
              "array([[0.  , 0.  , 0.  , 0.  , 0.  , 0.01, 0.  , 0.01, 0.  , 0.98],\n",
              "       [0.  , 0.  , 0.99, 0.  , 0.01, 0.  , 0.  , 0.  , 0.  , 0.  ],\n",
              "       [0.  , 1.  , 0.  , 0.  , 0.  , 0.  , 0.  , 0.  , 0.  , 0.  ]],\n",
              "      dtype=float32)"
            ]
          },
          "metadata": {},
          "execution_count": 33
        }
      ],
      "source": [
        "X_new = X_test[:3]\n",
        "y_proba = model.predict(X_new)\n",
        "y_proba.round(2)"
      ]
    },
    {
      "cell_type": "code",
      "execution_count": 47,
      "metadata": {
        "colab": {
          "base_uri": "https://localhost:8080/"
        },
        "id": "JGPYsm3KBRzA",
        "outputId": "c84a8026-0922-4db4-bfc4-59b12150bdd7"
      },
      "outputs": [
        {
          "output_type": "stream",
          "name": "stdout",
          "text": [
            "1/1 [==============================] - 0s 23ms/step\n"
          ]
        }
      ],
      "source": [
        "y_pred_prob = model.predict(X_new)\n",
        "y_pred = y_pred_prob.argmax(axis=-1)"
      ]
    },
    {
      "cell_type": "code",
      "execution_count": 48,
      "metadata": {
        "colab": {
          "base_uri": "https://localhost:8080/"
        },
        "id": "mPXYsw3RBRzA",
        "outputId": "ecea61df-07ee-4ffd-a05d-5344d46b0099"
      },
      "outputs": [
        {
          "output_type": "execute_result",
          "data": {
            "text/plain": [
              "array(['Ankle boot', 'Pullover', 'Trouser'], dtype='<U11')"
            ]
          },
          "metadata": {},
          "execution_count": 48
        }
      ],
      "source": [
        "np.array(class_names)[y_pred]"
      ]
    },
    {
      "cell_type": "code",
      "execution_count": 49,
      "metadata": {
        "colab": {
          "base_uri": "https://localhost:8080/"
        },
        "id": "LSg2J7G5BRzA",
        "outputId": "bd0eb907-622d-4bb3-a141-584538badb77"
      },
      "outputs": [
        {
          "output_type": "execute_result",
          "data": {
            "text/plain": [
              "array([9, 2, 1], dtype=uint8)"
            ]
          },
          "metadata": {},
          "execution_count": 49
        }
      ],
      "source": [
        "y_new = y_test[:3]\n",
        "y_new"
      ]
    },
    {
      "cell_type": "code",
      "execution_count": 50,
      "metadata": {
        "colab": {
          "base_uri": "https://localhost:8080/",
          "height": 223
        },
        "id": "qnNzzDzbBRzB",
        "outputId": "ffcd944d-0965-46f3-b756-6ea24b796c11"
      },
      "outputs": [
        {
          "output_type": "display_data",
          "data": {
            "text/plain": [
              "<Figure size 720x240 with 3 Axes>"
            ],
            "image/png": "[encoded data removed]"
          },
          "metadata": {}
        }
      ],
      "source": [
        "plt.figure(figsize=(7.2, 2.4))\n",
        "for index, image in enumerate(X_new):\n",
        "    plt.subplot(1, 3, index + 1)\n",
        "    plt.imshow(image, cmap=\"binary\", interpolation=\"nearest\")\n",
        "    plt.axis('off')\n",
        "    plt.title(class_names[y_test[index]], fontsize=12)\n",
        "plt.subplots_adjust(wspace=0.2, hspace=0.5)\n",
        "plt.show()"
      ]
    },
    {
      "cell_type": "markdown",
      "metadata": {
        "collapsed": true,
        "id": "ZK_gAvbTBRzB"
      },
      "source": [
        "## Exercise"
      ]
    },
    {
      "cell_type": "markdown",
      "metadata": {
        "id": "F7xJEHroBRzB"
      },
      "source": [
        "#### 1) Plot Learning curves when using different optimizers\n",
        "#### 2) Plot Learning curves when using different batch size\n",
        "#### 3) Plot Learning curves when using different number of epochs\n",
        "#### 4) Add additional neurons and use Dropout Layer. Plot Learning curves.\n",
        "#### 5) Use Batch Normalisation\n",
        "#### 6) repeat with more layers\n",
        "#### 7) apply on different datasets"
      ]
    },
    {
      "cell_type": "markdown",
      "source": [
        "<b>1. Plot Learning Curves using different optimizers</b>"
      ],
      "metadata": {
        "id": "CbyK-NjkUrji"
      }
    },
    {
      "cell_type": "markdown",
      "source": [
        "<font color=\"Red\"><b> 1.1. Adam optimizer</b></font>"
      ],
      "metadata": {
        "id": "FSgonUzfU2rQ"
      }
    },
    {
      "cell_type": "code",
      "execution_count": 51,
      "metadata": {
        "collapsed": true,
        "id": "9egZFCM4BRzC"
      },
      "outputs": [],
      "source": [
        "model.compile(loss=\"sparse_categorical_crossentropy\",\n",
        "              optimizer=\"adam\",\n",
        "              metrics=[\"accuracy\"])"
      ]
    },
    {
      "cell_type": "code",
      "source": [
        "history = model.fit(X_train, y_train, batch_size=32, epochs=30,\n",
        "                    validation_data=(X_valid, y_valid))"
      ],
      "metadata": {
        "id": "qQ6XfIC9bifD",
        "outputId": "f889206c-632a-422a-ed5d-a786cfc34981",
        "colab": {
          "base_uri": "https://localhost:8080/"
        }
      },
      "execution_count": 52,
      "outputs": [
        {
          "output_type": "stream",
          "name": "stdout",
          "text": [
            "Epoch 1/30\n",
            "1719/1719 [==============================] - 12s 6ms/step - loss: 0.3728 - accuracy: 0.8653 - val_loss: 0.3548 - val_accuracy: 0.8740\n",
            "Epoch 2/30\n",
            "1719/1719 [==============================] - 13s 8ms/step - loss: 0.3279 - accuracy: 0.8782 - val_loss: 0.3406 - val_accuracy: 0.8742\n",
            "Epoch 3/30\n",
            "1719/1719 [==============================] - 19s 11ms/step - loss: 0.3099 - accuracy: 0.8854 - val_loss: 0.3534 - val_accuracy: 0.8726\n",
            "Epoch 4/30\n",
            "1719/1719 [==============================] - 12s 7ms/step - loss: 0.2914 - accuracy: 0.8913 - val_loss: 0.3152 - val_accuracy: 0.8838\n",
            "Epoch 5/30\n",
            "1719/1719 [==============================] - 11s 7ms/step - loss: 0.2720 - accuracy: 0.8987 - val_loss: 0.3223 - val_accuracy: 0.8826\n",
            "Epoch 6/30\n",
            "1719/1719 [==============================] - 14s 8ms/step - loss: 0.2614 - accuracy: 0.9016 - val_loss: 0.3224 - val_accuracy: 0.8818\n",
            "Epoch 7/30\n",
            "1719/1719 [==============================] - 13s 7ms/step - loss: 0.2515 - accuracy: 0.9058 - val_loss: 0.3167 - val_accuracy: 0.8928\n",
            "Epoch 8/30\n",
            "1719/1719 [==============================] - 11s 6ms/step - loss: 0.2398 - accuracy: 0.9097 - val_loss: 0.2981 - val_accuracy: 0.8962\n",
            "Epoch 9/30\n",
            "1719/1719 [==============================] - 11s 6ms/step - loss: 0.2294 - accuracy: 0.9121 - val_loss: 0.3185 - val_accuracy: 0.8866\n",
            "Epoch 10/30\n",
            "1719/1719 [==============================] - 12s 7ms/step - loss: 0.2244 - accuracy: 0.9151 - val_loss: 0.3128 - val_accuracy: 0.8922\n",
            "Epoch 11/30\n",
            "1719/1719 [==============================] - 11s 6ms/step - loss: 0.2152 - accuracy: 0.9176 - val_loss: 0.3131 - val_accuracy: 0.8920\n",
            "Epoch 12/30\n",
            "1719/1719 [==============================] - 13s 7ms/step - loss: 0.2050 - accuracy: 0.9221 - val_loss: 0.3272 - val_accuracy: 0.8932\n",
            "Epoch 13/30\n",
            "1719/1719 [==============================] - 11s 6ms/step - loss: 0.2000 - accuracy: 0.9243 - val_loss: 0.3184 - val_accuracy: 0.8928\n",
            "Epoch 14/30\n",
            "1719/1719 [==============================] - 13s 8ms/step - loss: 0.1912 - accuracy: 0.9276 - val_loss: 0.3474 - val_accuracy: 0.8900\n",
            "Epoch 15/30\n",
            "1719/1719 [==============================] - 11s 6ms/step - loss: 0.1884 - accuracy: 0.9278 - val_loss: 0.3202 - val_accuracy: 0.8958\n",
            "Epoch 16/30\n",
            "1719/1719 [==============================] - 13s 8ms/step - loss: 0.1800 - accuracy: 0.9304 - val_loss: 0.3228 - val_accuracy: 0.8992\n",
            "Epoch 17/30\n",
            "1719/1719 [==============================] - 11s 6ms/step - loss: 0.1776 - accuracy: 0.9323 - val_loss: 0.3256 - val_accuracy: 0.9004\n",
            "Epoch 18/30\n",
            "1719/1719 [==============================] - 10s 6ms/step - loss: 0.1701 - accuracy: 0.9339 - val_loss: 0.3404 - val_accuracy: 0.8966\n",
            "Epoch 19/30\n",
            "1719/1719 [==============================] - 10s 6ms/step - loss: 0.1671 - accuracy: 0.9363 - val_loss: 0.3573 - val_accuracy: 0.8996\n",
            "Epoch 20/30\n",
            "1719/1719 [==============================] - 10s 6ms/step - loss: 0.1621 - accuracy: 0.9381 - val_loss: 0.3451 - val_accuracy: 0.8940\n",
            "Epoch 21/30\n",
            "1719/1719 [==============================] - 10s 6ms/step - loss: 0.1594 - accuracy: 0.9397 - val_loss: 0.3676 - val_accuracy: 0.8956\n",
            "Epoch 22/30\n",
            "1719/1719 [==============================] - 11s 6ms/step - loss: 0.1551 - accuracy: 0.9407 - val_loss: 0.3727 - val_accuracy: 0.8928\n",
            "Epoch 23/30\n",
            "1719/1719 [==============================] - 11s 6ms/step - loss: 0.1478 - accuracy: 0.9432 - val_loss: 0.3989 - val_accuracy: 0.8964\n",
            "Epoch 24/30\n",
            "1719/1719 [==============================] - 10s 6ms/step - loss: 0.1496 - accuracy: 0.9426 - val_loss: 0.3664 - val_accuracy: 0.8946\n",
            "Epoch 25/30\n",
            "1719/1719 [==============================] - 9s 5ms/step - loss: 0.1429 - accuracy: 0.9446 - val_loss: 0.3789 - val_accuracy: 0.8984\n",
            "Epoch 26/30\n",
            "1719/1719 [==============================] - 10s 6ms/step - loss: 0.1398 - accuracy: 0.9467 - val_loss: 0.4106 - val_accuracy: 0.8930\n",
            "Epoch 27/30\n",
            "1719/1719 [==============================] - 10s 6ms/step - loss: 0.1372 - accuracy: 0.9482 - val_loss: 0.3944 - val_accuracy: 0.8990\n",
            "Epoch 28/30\n",
            "1719/1719 [==============================] - 10s 6ms/step - loss: 0.1319 - accuracy: 0.9492 - val_loss: 0.4100 - val_accuracy: 0.8970\n",
            "Epoch 29/30\n",
            "1719/1719 [==============================] - 10s 6ms/step - loss: 0.1336 - accuracy: 0.9490 - val_loss: 0.4140 - val_accuracy: 0.8968\n",
            "Epoch 30/30\n",
            "1719/1719 [==============================] - 9s 5ms/step - loss: 0.1307 - accuracy: 0.9506 - val_loss: 0.4114 - val_accuracy: 0.8960\n"
          ]
        }
      ]
    },
    {
      "cell_type": "code",
      "source": [
        "pd.DataFrame(history.history).plot(figsize=(8, 5))\n",
        "plt.grid(True)\n",
        "plt.gca().set_ylim(0, 1)\n",
        "plt.show()"
      ],
      "metadata": {
        "id": "RKr1X0kfeK4U",
        "outputId": "ecc65b18-50a9-4244-9ef7-8cde4e8cf64d",
        "colab": {
          "base_uri": "https://localhost:8080/",
          "height": 456
        }
      },
      "execution_count": 53,
      "outputs": [
        {
          "output_type": "display_data",
          "data": {
            "text/plain": [
              "<Figure size 800x500 with 1 Axes>"
            ],
            "image/png": "[encoded data removed]"
          },
          "metadata": {}
        }
      ]
    },
    {
      "cell_type": "markdown",
      "source": [
        "> <b> Analysis</b>\n",
        "\n",
        "The plot shows that the loss of validation set increase, and that is not good, It indicates an overfitting."
      ],
      "metadata": {
        "id": "rwTlk7URf7SP"
      }
    },
    {
      "cell_type": "markdown",
      "source": [
        "<font color=\"Red\"><b> 1.2. Adagrad optimizer</b></font>"
      ],
      "metadata": {
        "id": "0lUDp1bdeRsl"
      }
    },
    {
      "cell_type": "code",
      "source": [
        "model.compile(loss=\"sparse_categorical_crossentropy\",\n",
        "              optimizer=\"adagrad\",\n",
        "              metrics=[\"accuracy\"])"
      ],
      "metadata": {
        "id": "BY3Kv9hYeY5D"
      },
      "execution_count": 54,
      "outputs": []
    },
    {
      "cell_type": "code",
      "source": [
        "history = model.fit(X_train, y_train, batch_size=32, epochs=30,\n",
        "                    validation_data=(X_valid, y_valid))"
      ],
      "metadata": {
        "id": "nzut4PITee1M",
        "outputId": "6fb0593b-74f8-4f72-8c82-6029d38802cd",
        "colab": {
          "base_uri": "https://localhost:8080/"
        }
      },
      "execution_count": 55,
      "outputs": [
        {
          "output_type": "stream",
          "name": "stdout",
          "text": [
            "Epoch 1/30\n",
            "1719/1719 [==============================] - 9s 5ms/step - loss: 0.0966 - accuracy: 0.9636 - val_loss: 0.3955 - val_accuracy: 0.9030\n",
            "Epoch 2/30\n",
            "1719/1719 [==============================] - 11s 6ms/step - loss: 0.0883 - accuracy: 0.9667 - val_loss: 0.3966 - val_accuracy: 0.9040\n",
            "Epoch 3/30\n",
            "1719/1719 [==============================] - 9s 5ms/step - loss: 0.0851 - accuracy: 0.9681 - val_loss: 0.3972 - val_accuracy: 0.9046\n",
            "Epoch 4/30\n",
            "1719/1719 [==============================] - 9s 5ms/step - loss: 0.0832 - accuracy: 0.9691 - val_loss: 0.3980 - val_accuracy: 0.9054\n",
            "Epoch 5/30\n",
            "1719/1719 [==============================] - 8s 5ms/step - loss: 0.0819 - accuracy: 0.9697 - val_loss: 0.3997 - val_accuracy: 0.9048\n",
            "Epoch 6/30\n",
            "1719/1719 [==============================] - 9s 5ms/step - loss: 0.0809 - accuracy: 0.9698 - val_loss: 0.4000 - val_accuracy: 0.9042\n",
            "Epoch 7/30\n",
            "1719/1719 [==============================] - 9s 5ms/step - loss: 0.0801 - accuracy: 0.9702 - val_loss: 0.4012 - val_accuracy: 0.9046\n",
            "Epoch 8/30\n",
            "1719/1719 [==============================] - 8s 5ms/step - loss: 0.0794 - accuracy: 0.9704 - val_loss: 0.4017 - val_accuracy: 0.9046\n",
            "Epoch 9/30\n",
            "1719/1719 [==============================] - 9s 5ms/step - loss: 0.0788 - accuracy: 0.9708 - val_loss: 0.4023 - val_accuracy: 0.9062\n",
            "Epoch 10/30\n",
            "1719/1719 [==============================] - 9s 5ms/step - loss: 0.0783 - accuracy: 0.9709 - val_loss: 0.4037 - val_accuracy: 0.9056\n",
            "Epoch 11/30\n",
            "1719/1719 [==============================] - 8s 5ms/step - loss: 0.0778 - accuracy: 0.9710 - val_loss: 0.4043 - val_accuracy: 0.9056\n",
            "Epoch 12/30\n",
            "1719/1719 [==============================] - 9s 5ms/step - loss: 0.0774 - accuracy: 0.9711 - val_loss: 0.4049 - val_accuracy: 0.9046\n",
            "Epoch 13/30\n",
            "1719/1719 [==============================] - 9s 5ms/step - loss: 0.0770 - accuracy: 0.9713 - val_loss: 0.4056 - val_accuracy: 0.9058\n",
            "Epoch 14/30\n",
            "1719/1719 [==============================] - 8s 5ms/step - loss: 0.0767 - accuracy: 0.9713 - val_loss: 0.4062 - val_accuracy: 0.9050\n",
            "Epoch 15/30\n",
            "1719/1719 [==============================] - 9s 5ms/step - loss: 0.0764 - accuracy: 0.9717 - val_loss: 0.4068 - val_accuracy: 0.9056\n",
            "Epoch 16/30\n",
            "1719/1719 [==============================] - 11s 6ms/step - loss: 0.0761 - accuracy: 0.9717 - val_loss: 0.4075 - val_accuracy: 0.9058\n",
            "Epoch 17/30\n",
            "1719/1719 [==============================] - 10s 6ms/step - loss: 0.0758 - accuracy: 0.9718 - val_loss: 0.4080 - val_accuracy: 0.9060\n",
            "Epoch 18/30\n",
            "1719/1719 [==============================] - 9s 5ms/step - loss: 0.0755 - accuracy: 0.9717 - val_loss: 0.4085 - val_accuracy: 0.9060\n",
            "Epoch 19/30\n",
            "1719/1719 [==============================] - 10s 6ms/step - loss: 0.0753 - accuracy: 0.9716 - val_loss: 0.4092 - val_accuracy: 0.9062\n",
            "Epoch 20/30\n",
            "1719/1719 [==============================] - 9s 5ms/step - loss: 0.0751 - accuracy: 0.9721 - val_loss: 0.4096 - val_accuracy: 0.9060\n",
            "Epoch 21/30\n",
            "1719/1719 [==============================] - 8s 5ms/step - loss: 0.0748 - accuracy: 0.9721 - val_loss: 0.4100 - val_accuracy: 0.9056\n",
            "Epoch 22/30\n",
            "1719/1719 [==============================] - 9s 5ms/step - loss: 0.0746 - accuracy: 0.9723 - val_loss: 0.4107 - val_accuracy: 0.9052\n",
            "Epoch 23/30\n",
            "1719/1719 [==============================] - 9s 5ms/step - loss: 0.0744 - accuracy: 0.9721 - val_loss: 0.4109 - val_accuracy: 0.9054\n",
            "Epoch 24/30\n",
            "1719/1719 [==============================] - 8s 5ms/step - loss: 0.0742 - accuracy: 0.9726 - val_loss: 0.4113 - val_accuracy: 0.9062\n",
            "Epoch 25/30\n",
            "1719/1719 [==============================] - 9s 5ms/step - loss: 0.0740 - accuracy: 0.9724 - val_loss: 0.4115 - val_accuracy: 0.9060\n",
            "Epoch 26/30\n",
            "1719/1719 [==============================] - 9s 5ms/step - loss: 0.0738 - accuracy: 0.9724 - val_loss: 0.4120 - val_accuracy: 0.9058\n",
            "Epoch 27/30\n",
            "1719/1719 [==============================] - 8s 5ms/step - loss: 0.0737 - accuracy: 0.9728 - val_loss: 0.4126 - val_accuracy: 0.9060\n",
            "Epoch 28/30\n",
            "1719/1719 [==============================] - 9s 5ms/step - loss: 0.0735 - accuracy: 0.9726 - val_loss: 0.4128 - val_accuracy: 0.9064\n",
            "Epoch 29/30\n",
            "1719/1719 [==============================] - 9s 5ms/step - loss: 0.0733 - accuracy: 0.9728 - val_loss: 0.4131 - val_accuracy: 0.9060\n",
            "Epoch 30/30\n",
            "1719/1719 [==============================] - 9s 5ms/step - loss: 0.0732 - accuracy: 0.9729 - val_loss: 0.4139 - val_accuracy: 0.9056\n"
          ]
        }
      ]
    },
    {
      "cell_type": "code",
      "source": [
        "pd.DataFrame(history.history).plot(figsize=(8, 5))\n",
        "plt.grid(True)\n",
        "plt.gca().set_ylim(0, 1)\n",
        "plt.show()"
      ],
      "metadata": {
        "id": "66TVSwPeefhs",
        "outputId": "595049f8-e0de-4572-aecb-73c8ab9d42a4",
        "colab": {
          "base_uri": "https://localhost:8080/",
          "height": 456
        }
      },
      "execution_count": 56,
      "outputs": [
        {
          "output_type": "display_data",
          "data": {
            "text/plain": [
              "<Figure size 800x500 with 1 Axes>"
            ],
            "image/png": "[encoded data removed]"
          },
          "metadata": {}
        }
      ]
    },
    {
      "cell_type": "markdown",
      "source": [
        "<font color=\"Red\"><b> 1.3. Adamax optimizer</b></font>"
      ],
      "metadata": {
        "id": "MM0Z0oFLemlw"
      }
    },
    {
      "cell_type": "code",
      "source": [
        "model.compile(loss=\"sparse_categorical_crossentropy\",\n",
        "              optimizer=\"adagrad\",\n",
        "              metrics=[\"accuracy\"])"
      ],
      "metadata": {
        "id": "5G8-Sxn1etQT"
      },
      "execution_count": 57,
      "outputs": []
    },
    {
      "cell_type": "code",
      "source": [
        "history = model.fit(X_train, y_train, batch_size=32, epochs=30,\n",
        "                    validation_data=(X_valid, y_valid))"
      ],
      "metadata": {
        "id": "mSmjaRPsewEx",
        "outputId": "f3855c27-2eab-44fa-dec8-0da13a9cc67e",
        "colab": {
          "base_uri": "https://localhost:8080/"
        }
      },
      "execution_count": 58,
      "outputs": [
        {
          "output_type": "stream",
          "name": "stdout",
          "text": [
            "Epoch 1/30\n",
            "1719/1719 [==============================] - 9s 5ms/step - loss: 0.0733 - accuracy: 0.9731 - val_loss: 0.4148 - val_accuracy: 0.9054\n",
            "Epoch 2/30\n",
            "1719/1719 [==============================] - 10s 6ms/step - loss: 0.0729 - accuracy: 0.9729 - val_loss: 0.4155 - val_accuracy: 0.9046\n",
            "Epoch 3/30\n",
            "1719/1719 [==============================] - 9s 5ms/step - loss: 0.0726 - accuracy: 0.9732 - val_loss: 0.4162 - val_accuracy: 0.9066\n",
            "Epoch 4/30\n",
            "1719/1719 [==============================] - 8s 5ms/step - loss: 0.0723 - accuracy: 0.9731 - val_loss: 0.4168 - val_accuracy: 0.9050\n",
            "Epoch 5/30\n",
            "1719/1719 [==============================] - 9s 5ms/step - loss: 0.0720 - accuracy: 0.9734 - val_loss: 0.4166 - val_accuracy: 0.9058\n",
            "Epoch 6/30\n",
            "1719/1719 [==============================] - 10s 6ms/step - loss: 0.0718 - accuracy: 0.9736 - val_loss: 0.4175 - val_accuracy: 0.9056\n",
            "Epoch 7/30\n",
            "1719/1719 [==============================] - 8s 5ms/step - loss: 0.0715 - accuracy: 0.9736 - val_loss: 0.4188 - val_accuracy: 0.9054\n",
            "Epoch 8/30\n",
            "1719/1719 [==============================] - 9s 5ms/step - loss: 0.0713 - accuracy: 0.9737 - val_loss: 0.4193 - val_accuracy: 0.9060\n",
            "Epoch 9/30\n",
            "1719/1719 [==============================] - 9s 5ms/step - loss: 0.0711 - accuracy: 0.9738 - val_loss: 0.4192 - val_accuracy: 0.9066\n",
            "Epoch 10/30\n",
            "1719/1719 [==============================] - 8s 5ms/step - loss: 0.0710 - accuracy: 0.9739 - val_loss: 0.4197 - val_accuracy: 0.9054\n",
            "Epoch 11/30\n",
            "1719/1719 [==============================] - 9s 5ms/step - loss: 0.0708 - accuracy: 0.9739 - val_loss: 0.4195 - val_accuracy: 0.9046\n",
            "Epoch 12/30\n",
            "1719/1719 [==============================] - 9s 5ms/step - loss: 0.0706 - accuracy: 0.9741 - val_loss: 0.4208 - val_accuracy: 0.9054\n",
            "Epoch 13/30\n",
            "1719/1719 [==============================] - 9s 5ms/step - loss: 0.0705 - accuracy: 0.9740 - val_loss: 0.4209 - val_accuracy: 0.9048\n",
            "Epoch 14/30\n",
            "1719/1719 [==============================] - 8s 5ms/step - loss: 0.0703 - accuracy: 0.9740 - val_loss: 0.4215 - val_accuracy: 0.9048\n",
            "Epoch 15/30\n",
            "1719/1719 [==============================] - 9s 5ms/step - loss: 0.0702 - accuracy: 0.9743 - val_loss: 0.4217 - val_accuracy: 0.9046\n",
            "Epoch 16/30\n",
            "1719/1719 [==============================] - 9s 5ms/step - loss: 0.0700 - accuracy: 0.9742 - val_loss: 0.4219 - val_accuracy: 0.9046\n",
            "Epoch 17/30\n",
            "1719/1719 [==============================] - 8s 5ms/step - loss: 0.0699 - accuracy: 0.9743 - val_loss: 0.4224 - val_accuracy: 0.9056\n",
            "Epoch 18/30\n",
            "1719/1719 [==============================] - 9s 5ms/step - loss: 0.0698 - accuracy: 0.9743 - val_loss: 0.4229 - val_accuracy: 0.9058\n",
            "Epoch 19/30\n",
            "1719/1719 [==============================] - 9s 5ms/step - loss: 0.0697 - accuracy: 0.9745 - val_loss: 0.4227 - val_accuracy: 0.9054\n",
            "Epoch 20/30\n",
            "1719/1719 [==============================] - 8s 5ms/step - loss: 0.0695 - accuracy: 0.9746 - val_loss: 0.4226 - val_accuracy: 0.9056\n",
            "Epoch 21/30\n",
            "1719/1719 [==============================] - 9s 5ms/step - loss: 0.0694 - accuracy: 0.9745 - val_loss: 0.4235 - val_accuracy: 0.9058\n",
            "Epoch 22/30\n",
            "1719/1719 [==============================] - 10s 6ms/step - loss: 0.0693 - accuracy: 0.9746 - val_loss: 0.4238 - val_accuracy: 0.9050\n",
            "Epoch 23/30\n",
            "1719/1719 [==============================] - 8s 5ms/step - loss: 0.0691 - accuracy: 0.9745 - val_loss: 0.4241 - val_accuracy: 0.9040\n",
            "Epoch 24/30\n",
            "1719/1719 [==============================] - 10s 6ms/step - loss: 0.0691 - accuracy: 0.9745 - val_loss: 0.4246 - val_accuracy: 0.9042\n",
            "Epoch 25/30\n",
            "1719/1719 [==============================] - 9s 6ms/step - loss: 0.0689 - accuracy: 0.9747 - val_loss: 0.4250 - val_accuracy: 0.9046\n",
            "Epoch 26/30\n",
            "1719/1719 [==============================] - 9s 5ms/step - loss: 0.0688 - accuracy: 0.9748 - val_loss: 0.4252 - val_accuracy: 0.9050\n",
            "Epoch 27/30\n",
            "1719/1719 [==============================] - 9s 5ms/step - loss: 0.0687 - accuracy: 0.9749 - val_loss: 0.4254 - val_accuracy: 0.9048\n",
            "Epoch 28/30\n",
            "1719/1719 [==============================] - 9s 5ms/step - loss: 0.0686 - accuracy: 0.9749 - val_loss: 0.4254 - val_accuracy: 0.9054\n",
            "Epoch 29/30\n",
            "1719/1719 [==============================] - 9s 5ms/step - loss: 0.0685 - accuracy: 0.9749 - val_loss: 0.4257 - val_accuracy: 0.9050\n",
            "Epoch 30/30\n",
            "1719/1719 [==============================] - 8s 5ms/step - loss: 0.0684 - accuracy: 0.9749 - val_loss: 0.4260 - val_accuracy: 0.9052\n"
          ]
        }
      ]
    },
    {
      "cell_type": "code",
      "source": [
        "pd.DataFrame(history.history).plot(figsize=(8, 5))\n",
        "plt.grid(True)\n",
        "plt.gca().set_ylim(0, 1)\n",
        "plt.show()"
      ],
      "metadata": {
        "id": "PhY-FsYPex9p",
        "outputId": "21d032be-8914-4959-b3fb-3b2631c4f235",
        "colab": {
          "base_uri": "https://localhost:8080/",
          "height": 456
        }
      },
      "execution_count": 59,
      "outputs": [
        {
          "output_type": "display_data",
          "data": {
            "text/plain": [
              "<Figure size 800x500 with 1 Axes>"
            ],
            "image/png": "[encoded data removed]"
          },
          "metadata": {}
        }
      ]
    },
    {
      "cell_type": "markdown",
      "source": [
        "<b>2. Plot Learning Curves using different batch size</b>"
      ],
      "metadata": {
        "id": "UglnNjpqe4cO"
      }
    },
    {
      "cell_type": "code",
      "source": [],
      "metadata": {
        "id": "YTYFvbe_e73A"
      },
      "execution_count": null,
      "outputs": []
    }
  ],
  "metadata": {
    "kernelspec": {
      "display_name": "Python 3",
      "language": "python",
      "name": "python3"
    },
    "language_info": {
      "codemirror_mode": {
        "name": "ipython",
        "version": 3
      },
      "file_extension": ".py",
      "mimetype": "text/x-python",
      "name": "python",
      "nbconvert_exporter": "python",
      "pygments_lexer": "ipython3",
      "version": "3.6.1"
    },
    "nav_menu": {
      "height": "264px",
      "width": "369px"
    },
    "toc": {
      "navigate_menu": true,
      "number_sections": true,
      "sideBar": true,
      "threshold": 6,
      "toc_cell": false,
      "toc_section_display": "block",
      "toc_window_display": false
    },
    "colab": {
      "provenance": []
    }
  },
  "nbformat": 4,
  "nbformat_minor": 0
}